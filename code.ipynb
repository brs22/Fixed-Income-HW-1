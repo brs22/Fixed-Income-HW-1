{
  "cells": [
    {
      "cell_type": "markdown",
      "id": "3024583b",
      "metadata": {},
      "source": [
        "# 1 Time Value of Money"
      ]
    },
    {
      "cell_type": "code",
      "execution_count": 35,
      "id": "74854729",
      "metadata": {
        "colab": {
          "base_uri": "https://localhost:8080/",
          "height": 542
        },
        "id": "74854729",
        "outputId": "a7f9bbbc-255d-40e0-89d0-8008c29a6626"
      },
      "outputs": [],
      "source": [
        "import plotly.graph_objects as go\n",
        "import math\n",
        "import sympy as sp\n",
        "import scipy.optimize as sco\n",
        "import numpy as np\n",
        "import pandas as pd"
      ]
    },
    {
      "cell_type": "markdown",
      "id": "2851a381",
      "metadata": {},
      "source": [
        "## (1a) plot cf diagram"
      ]
    },
    {
      "cell_type": "code",
      "execution_count": 36,
      "id": "202bf7f7",
      "metadata": {},
      "outputs": [
        {
          "data": {
            "application/vnd.plotly.v1+json": {
              "config": {
                "plotlyServerURL": "https://plot.ly"
              },
              "data": [
                {
                  "marker": {
                    "color": [
                      "red",
                      "green",
                      "green",
                      "green",
                      "green",
                      "green",
                      "green",
                      "green",
                      "green",
                      "green",
                      "green"
                    ]
                  },
                  "text": [
                    "-100000",
                    "0",
                    "0",
                    "0",
                    "10000",
                    "10000",
                    "20000",
                    "20000",
                    "50000",
                    "50000",
                    "60000"
                  ],
                  "textposition": "auto",
                  "type": "bar",
                  "x": [
                    0,
                    1,
                    2,
                    3,
                    4,
                    5,
                    6,
                    7,
                    8,
                    9,
                    10
                  ],
                  "y": [
                    -100000,
                    0,
                    0,
                    0,
                    10000,
                    10000,
                    20000,
                    20000,
                    50000,
                    50000,
                    60000
                  ]
                }
              ],
              "layout": {
                "template": {
                  "data": {
                    "bar": [
                      {
                        "error_x": {
                          "color": "#2a3f5f"
                        },
                        "error_y": {
                          "color": "#2a3f5f"
                        },
                        "marker": {
                          "line": {
                            "color": "#E5ECF6",
                            "width": 0.5
                          }
                        },
                        "type": "bar"
                      }
                    ],
                    "barpolar": [
                      {
                        "marker": {
                          "line": {
                            "color": "#E5ECF6",
                            "width": 0.5
                          }
                        },
                        "type": "barpolar"
                      }
                    ],
                    "carpet": [
                      {
                        "aaxis": {
                          "endlinecolor": "#2a3f5f",
                          "gridcolor": "white",
                          "linecolor": "white",
                          "minorgridcolor": "white",
                          "startlinecolor": "#2a3f5f"
                        },
                        "baxis": {
                          "endlinecolor": "#2a3f5f",
                          "gridcolor": "white",
                          "linecolor": "white",
                          "minorgridcolor": "white",
                          "startlinecolor": "#2a3f5f"
                        },
                        "type": "carpet"
                      }
                    ],
                    "choropleth": [
                      {
                        "colorbar": {
                          "outlinewidth": 0,
                          "ticks": ""
                        },
                        "type": "choropleth"
                      }
                    ],
                    "contour": [
                      {
                        "colorbar": {
                          "outlinewidth": 0,
                          "ticks": ""
                        },
                        "colorscale": [
                          [
                            0,
                            "#0d0887"
                          ],
                          [
                            0.1111111111111111,
                            "#46039f"
                          ],
                          [
                            0.2222222222222222,
                            "#7201a8"
                          ],
                          [
                            0.3333333333333333,
                            "#9c179e"
                          ],
                          [
                            0.4444444444444444,
                            "#bd3786"
                          ],
                          [
                            0.5555555555555556,
                            "#d8576b"
                          ],
                          [
                            0.6666666666666666,
                            "#ed7953"
                          ],
                          [
                            0.7777777777777778,
                            "#fb9f3a"
                          ],
                          [
                            0.8888888888888888,
                            "#fdca26"
                          ],
                          [
                            1,
                            "#f0f921"
                          ]
                        ],
                        "type": "contour"
                      }
                    ],
                    "contourcarpet": [
                      {
                        "colorbar": {
                          "outlinewidth": 0,
                          "ticks": ""
                        },
                        "type": "contourcarpet"
                      }
                    ],
                    "heatmap": [
                      {
                        "colorbar": {
                          "outlinewidth": 0,
                          "ticks": ""
                        },
                        "colorscale": [
                          [
                            0,
                            "#0d0887"
                          ],
                          [
                            0.1111111111111111,
                            "#46039f"
                          ],
                          [
                            0.2222222222222222,
                            "#7201a8"
                          ],
                          [
                            0.3333333333333333,
                            "#9c179e"
                          ],
                          [
                            0.4444444444444444,
                            "#bd3786"
                          ],
                          [
                            0.5555555555555556,
                            "#d8576b"
                          ],
                          [
                            0.6666666666666666,
                            "#ed7953"
                          ],
                          [
                            0.7777777777777778,
                            "#fb9f3a"
                          ],
                          [
                            0.8888888888888888,
                            "#fdca26"
                          ],
                          [
                            1,
                            "#f0f921"
                          ]
                        ],
                        "type": "heatmap"
                      }
                    ],
                    "heatmapgl": [
                      {
                        "colorbar": {
                          "outlinewidth": 0,
                          "ticks": ""
                        },
                        "colorscale": [
                          [
                            0,
                            "#0d0887"
                          ],
                          [
                            0.1111111111111111,
                            "#46039f"
                          ],
                          [
                            0.2222222222222222,
                            "#7201a8"
                          ],
                          [
                            0.3333333333333333,
                            "#9c179e"
                          ],
                          [
                            0.4444444444444444,
                            "#bd3786"
                          ],
                          [
                            0.5555555555555556,
                            "#d8576b"
                          ],
                          [
                            0.6666666666666666,
                            "#ed7953"
                          ],
                          [
                            0.7777777777777778,
                            "#fb9f3a"
                          ],
                          [
                            0.8888888888888888,
                            "#fdca26"
                          ],
                          [
                            1,
                            "#f0f921"
                          ]
                        ],
                        "type": "heatmapgl"
                      }
                    ],
                    "histogram": [
                      {
                        "marker": {
                          "colorbar": {
                            "outlinewidth": 0,
                            "ticks": ""
                          }
                        },
                        "type": "histogram"
                      }
                    ],
                    "histogram2d": [
                      {
                        "colorbar": {
                          "outlinewidth": 0,
                          "ticks": ""
                        },
                        "colorscale": [
                          [
                            0,
                            "#0d0887"
                          ],
                          [
                            0.1111111111111111,
                            "#46039f"
                          ],
                          [
                            0.2222222222222222,
                            "#7201a8"
                          ],
                          [
                            0.3333333333333333,
                            "#9c179e"
                          ],
                          [
                            0.4444444444444444,
                            "#bd3786"
                          ],
                          [
                            0.5555555555555556,
                            "#d8576b"
                          ],
                          [
                            0.6666666666666666,
                            "#ed7953"
                          ],
                          [
                            0.7777777777777778,
                            "#fb9f3a"
                          ],
                          [
                            0.8888888888888888,
                            "#fdca26"
                          ],
                          [
                            1,
                            "#f0f921"
                          ]
                        ],
                        "type": "histogram2d"
                      }
                    ],
                    "histogram2dcontour": [
                      {
                        "colorbar": {
                          "outlinewidth": 0,
                          "ticks": ""
                        },
                        "colorscale": [
                          [
                            0,
                            "#0d0887"
                          ],
                          [
                            0.1111111111111111,
                            "#46039f"
                          ],
                          [
                            0.2222222222222222,
                            "#7201a8"
                          ],
                          [
                            0.3333333333333333,
                            "#9c179e"
                          ],
                          [
                            0.4444444444444444,
                            "#bd3786"
                          ],
                          [
                            0.5555555555555556,
                            "#d8576b"
                          ],
                          [
                            0.6666666666666666,
                            "#ed7953"
                          ],
                          [
                            0.7777777777777778,
                            "#fb9f3a"
                          ],
                          [
                            0.8888888888888888,
                            "#fdca26"
                          ],
                          [
                            1,
                            "#f0f921"
                          ]
                        ],
                        "type": "histogram2dcontour"
                      }
                    ],
                    "mesh3d": [
                      {
                        "colorbar": {
                          "outlinewidth": 0,
                          "ticks": ""
                        },
                        "type": "mesh3d"
                      }
                    ],
                    "parcoords": [
                      {
                        "line": {
                          "colorbar": {
                            "outlinewidth": 0,
                            "ticks": ""
                          }
                        },
                        "type": "parcoords"
                      }
                    ],
                    "pie": [
                      {
                        "automargin": true,
                        "type": "pie"
                      }
                    ],
                    "scatter": [
                      {
                        "marker": {
                          "colorbar": {
                            "outlinewidth": 0,
                            "ticks": ""
                          }
                        },
                        "type": "scatter"
                      }
                    ],
                    "scatter3d": [
                      {
                        "line": {
                          "colorbar": {
                            "outlinewidth": 0,
                            "ticks": ""
                          }
                        },
                        "marker": {
                          "colorbar": {
                            "outlinewidth": 0,
                            "ticks": ""
                          }
                        },
                        "type": "scatter3d"
                      }
                    ],
                    "scattercarpet": [
                      {
                        "marker": {
                          "colorbar": {
                            "outlinewidth": 0,
                            "ticks": ""
                          }
                        },
                        "type": "scattercarpet"
                      }
                    ],
                    "scattergeo": [
                      {
                        "marker": {
                          "colorbar": {
                            "outlinewidth": 0,
                            "ticks": ""
                          }
                        },
                        "type": "scattergeo"
                      }
                    ],
                    "scattergl": [
                      {
                        "marker": {
                          "colorbar": {
                            "outlinewidth": 0,
                            "ticks": ""
                          }
                        },
                        "type": "scattergl"
                      }
                    ],
                    "scattermapbox": [
                      {
                        "marker": {
                          "colorbar": {
                            "outlinewidth": 0,
                            "ticks": ""
                          }
                        },
                        "type": "scattermapbox"
                      }
                    ],
                    "scatterpolar": [
                      {
                        "marker": {
                          "colorbar": {
                            "outlinewidth": 0,
                            "ticks": ""
                          }
                        },
                        "type": "scatterpolar"
                      }
                    ],
                    "scatterpolargl": [
                      {
                        "marker": {
                          "colorbar": {
                            "outlinewidth": 0,
                            "ticks": ""
                          }
                        },
                        "type": "scatterpolargl"
                      }
                    ],
                    "scatterternary": [
                      {
                        "marker": {
                          "colorbar": {
                            "outlinewidth": 0,
                            "ticks": ""
                          }
                        },
                        "type": "scatterternary"
                      }
                    ],
                    "surface": [
                      {
                        "colorbar": {
                          "outlinewidth": 0,
                          "ticks": ""
                        },
                        "colorscale": [
                          [
                            0,
                            "#0d0887"
                          ],
                          [
                            0.1111111111111111,
                            "#46039f"
                          ],
                          [
                            0.2222222222222222,
                            "#7201a8"
                          ],
                          [
                            0.3333333333333333,
                            "#9c179e"
                          ],
                          [
                            0.4444444444444444,
                            "#bd3786"
                          ],
                          [
                            0.5555555555555556,
                            "#d8576b"
                          ],
                          [
                            0.6666666666666666,
                            "#ed7953"
                          ],
                          [
                            0.7777777777777778,
                            "#fb9f3a"
                          ],
                          [
                            0.8888888888888888,
                            "#fdca26"
                          ],
                          [
                            1,
                            "#f0f921"
                          ]
                        ],
                        "type": "surface"
                      }
                    ],
                    "table": [
                      {
                        "cells": {
                          "fill": {
                            "color": "#EBF0F8"
                          },
                          "line": {
                            "color": "white"
                          }
                        },
                        "header": {
                          "fill": {
                            "color": "#C8D4E3"
                          },
                          "line": {
                            "color": "white"
                          }
                        },
                        "type": "table"
                      }
                    ]
                  },
                  "layout": {
                    "annotationdefaults": {
                      "arrowcolor": "#2a3f5f",
                      "arrowhead": 0,
                      "arrowwidth": 1
                    },
                    "coloraxis": {
                      "colorbar": {
                        "outlinewidth": 0,
                        "ticks": ""
                      }
                    },
                    "colorscale": {
                      "diverging": [
                        [
                          0,
                          "#8e0152"
                        ],
                        [
                          0.1,
                          "#c51b7d"
                        ],
                        [
                          0.2,
                          "#de77ae"
                        ],
                        [
                          0.3,
                          "#f1b6da"
                        ],
                        [
                          0.4,
                          "#fde0ef"
                        ],
                        [
                          0.5,
                          "#f7f7f7"
                        ],
                        [
                          0.6,
                          "#e6f5d0"
                        ],
                        [
                          0.7,
                          "#b8e186"
                        ],
                        [
                          0.8,
                          "#7fbc41"
                        ],
                        [
                          0.9,
                          "#4d9221"
                        ],
                        [
                          1,
                          "#276419"
                        ]
                      ],
                      "sequential": [
                        [
                          0,
                          "#0d0887"
                        ],
                        [
                          0.1111111111111111,
                          "#46039f"
                        ],
                        [
                          0.2222222222222222,
                          "#7201a8"
                        ],
                        [
                          0.3333333333333333,
                          "#9c179e"
                        ],
                        [
                          0.4444444444444444,
                          "#bd3786"
                        ],
                        [
                          0.5555555555555556,
                          "#d8576b"
                        ],
                        [
                          0.6666666666666666,
                          "#ed7953"
                        ],
                        [
                          0.7777777777777778,
                          "#fb9f3a"
                        ],
                        [
                          0.8888888888888888,
                          "#fdca26"
                        ],
                        [
                          1,
                          "#f0f921"
                        ]
                      ],
                      "sequentialminus": [
                        [
                          0,
                          "#0d0887"
                        ],
                        [
                          0.1111111111111111,
                          "#46039f"
                        ],
                        [
                          0.2222222222222222,
                          "#7201a8"
                        ],
                        [
                          0.3333333333333333,
                          "#9c179e"
                        ],
                        [
                          0.4444444444444444,
                          "#bd3786"
                        ],
                        [
                          0.5555555555555556,
                          "#d8576b"
                        ],
                        [
                          0.6666666666666666,
                          "#ed7953"
                        ],
                        [
                          0.7777777777777778,
                          "#fb9f3a"
                        ],
                        [
                          0.8888888888888888,
                          "#fdca26"
                        ],
                        [
                          1,
                          "#f0f921"
                        ]
                      ]
                    },
                    "colorway": [
                      "#636efa",
                      "#EF553B",
                      "#00cc96",
                      "#ab63fa",
                      "#FFA15A",
                      "#19d3f3",
                      "#FF6692",
                      "#B6E880",
                      "#FF97FF",
                      "#FECB52"
                    ],
                    "font": {
                      "color": "#2a3f5f"
                    },
                    "geo": {
                      "bgcolor": "white",
                      "lakecolor": "white",
                      "landcolor": "#E5ECF6",
                      "showlakes": true,
                      "showland": true,
                      "subunitcolor": "white"
                    },
                    "hoverlabel": {
                      "align": "left"
                    },
                    "hovermode": "closest",
                    "mapbox": {
                      "style": "light"
                    },
                    "paper_bgcolor": "white",
                    "plot_bgcolor": "#E5ECF6",
                    "polar": {
                      "angularaxis": {
                        "gridcolor": "white",
                        "linecolor": "white",
                        "ticks": ""
                      },
                      "bgcolor": "#E5ECF6",
                      "radialaxis": {
                        "gridcolor": "white",
                        "linecolor": "white",
                        "ticks": ""
                      }
                    },
                    "scene": {
                      "xaxis": {
                        "backgroundcolor": "#E5ECF6",
                        "gridcolor": "white",
                        "gridwidth": 2,
                        "linecolor": "white",
                        "showbackground": true,
                        "ticks": "",
                        "zerolinecolor": "white"
                      },
                      "yaxis": {
                        "backgroundcolor": "#E5ECF6",
                        "gridcolor": "white",
                        "gridwidth": 2,
                        "linecolor": "white",
                        "showbackground": true,
                        "ticks": "",
                        "zerolinecolor": "white"
                      },
                      "zaxis": {
                        "backgroundcolor": "#E5ECF6",
                        "gridcolor": "white",
                        "gridwidth": 2,
                        "linecolor": "white",
                        "showbackground": true,
                        "ticks": "",
                        "zerolinecolor": "white"
                      }
                    },
                    "shapedefaults": {
                      "line": {
                        "color": "#2a3f5f"
                      }
                    },
                    "ternary": {
                      "aaxis": {
                        "gridcolor": "white",
                        "linecolor": "white",
                        "ticks": ""
                      },
                      "baxis": {
                        "gridcolor": "white",
                        "linecolor": "white",
                        "ticks": ""
                      },
                      "bgcolor": "#E5ECF6",
                      "caxis": {
                        "gridcolor": "white",
                        "linecolor": "white",
                        "ticks": ""
                      }
                    },
                    "title": {
                      "x": 0.05
                    },
                    "xaxis": {
                      "automargin": true,
                      "gridcolor": "white",
                      "linecolor": "white",
                      "ticks": "",
                      "title": {
                        "standoff": 15
                      },
                      "zerolinecolor": "white",
                      "zerolinewidth": 2
                    },
                    "yaxis": {
                      "automargin": true,
                      "gridcolor": "white",
                      "linecolor": "white",
                      "ticks": "",
                      "title": {
                        "standoff": 15
                      },
                      "zerolinecolor": "white",
                      "zerolinewidth": 2
                    }
                  }
                },
                "title": {
                  "text": "cf diagram"
                },
                "xaxis": {
                  "title": {
                    "text": "Years"
                  }
                },
                "yaxis": {
                  "title": {
                    "text": "cf"
                  }
                }
              }
            }
          },
          "metadata": {},
          "output_type": "display_data"
        }
      ],
      "source": [
        "\n",
        "cf=[-100000]+[0]*3+[10000,10000]+[20000,20000]+[50000,50000]+[60000]  \n",
        "df=[1.1**i for i in range(11)]\n",
        "\n",
        "figure=go.Figure()\n",
        "\n",
        "figure.add_trace(go.Bar(x=list(range(11)),y=cf,marker_color=['red']+['green']*10,text=cf,textposition='auto'))\n",
        "figure.update_layout(xaxis_title='Years',yaxis_title='cf',title_text='cf diagram')"
      ]
    },
    {
      "cell_type": "markdown",
      "id": "9cac1c2f",
      "metadata": {},
      "source": [
        "## (1b) Discrete vs Continuous"
      ]
    },
    {
      "cell_type": "code",
      "execution_count": 37,
      "id": "x-ZJk3uTG8EY",
      "metadata": {
        "colab": {
          "base_uri": "https://localhost:8080/"
        },
        "id": "x-ZJk3uTG8EY",
        "outputId": "761794e8-d4e7-40db-949c-3ba1d44cfdbe"
      },
      "outputs": [
        {
          "data": {
            "text/plain": [
              "(-1455.8564816309881, 2254.8360448146923)"
            ]
          },
          "execution_count": 37,
          "metadata": {},
          "output_type": "execute_result"
        }
      ],
      "source": [
        "#discrete discounting\n",
        "npv=0\n",
        "for (i,j) in zip(cf,df):\n",
        "    npv+=i/j\n",
        "    \n",
        "npv\n",
        "\n",
        "#continuous discounting\n",
        "npv_con=0\n",
        "for (z,i,j) in zip(cf,range(11),[0.1]*11):\n",
        "    npv_con+=z*math.e**(-i*j)\n",
        "\n",
        "npv_con,npv"
      ]
    },
    {
      "cell_type": "markdown",
      "id": "Qw5Ze7SMgqZw",
      "metadata": {
        "id": "Qw5Ze7SMgqZw"
      },
      "source": [
        "In the countinuos case we shouldn't invest in the project (npv<0), whereas in the discrete case we should invest in the project (npv>0). \n",
        "\n",
        "Discounting effect is more pronounced as the frequency of discounting (or compounding) increases, assuming discount rates are same in both cases. Since continuous discounting is a limit case of discrete discounting with infinitely frequent reinvesting of infinitely small payments, discounting (compounding) effect is maximal in the continuous model."
      ]
    },
    {
      "cell_type": "markdown",
      "id": "544edbc6",
      "metadata": {},
      "source": [
        "## (1c) Annual rates of return"
      ]
    },
    {
      "cell_type": "code",
      "execution_count": 38,
      "id": "8CpOacd0anRW",
      "metadata": {
        "colab": {
          "base_uri": "https://localhost:8080/"
        },
        "id": "8CpOacd0anRW",
        "outputId": "1f2e7357-8911-4fb5-e68c-3391c10580b0"
      },
      "outputs": [
        {
          "data": {
            "text/plain": [
              "[(0.1, 0.105),\n",
              " (0.21, 0.221),\n",
              " (0.331, 0.35),\n",
              " (0.464, 0.492),\n",
              " (0.611, 0.649),\n",
              " (0.772, 0.822),\n",
              " (0.949, 1.014),\n",
              " (1.144, 1.226),\n",
              " (1.358, 1.46),\n",
              " (1.594, 1.718)]"
            ]
          },
          "execution_count": 38,
          "metadata": {},
          "output_type": "execute_result"
        }
      ],
      "source": [
        "# pairs of discount factors for discrete and continuous cases \n",
        "[(round((1.1**i)-1, 3), round(math.e**(i*0.1)-1,3)) for i in range(1,11)]"
      ]
    },
    {
      "cell_type": "code",
      "execution_count": 39,
      "id": "a3b3325a",
      "metadata": {},
      "outputs": [
        {
          "data": {
            "text/plain": [
              "[-0.005170918075647624,\n",
              " -0.011402758160169668,\n",
              " -0.01885880757600278,\n",
              " -0.027724697641269946,\n",
              " -0.03821127070012764,\n",
              " -0.05055780039050828,\n",
              " -0.06503560747047543,\n",
              " -0.08195211849246586,\n",
              " -0.1016554201569475,\n",
              " -0.12453936835904278]"
            ]
          },
          "execution_count": 39,
          "metadata": {},
          "output_type": "execute_result"
        }
      ],
      "source": [
        "# Differences between discrete and continuous discount factors\n",
        "[(1.1**i) - math.e**(i*0.1)  for i in range(1,11)]"
      ]
    },
    {
      "cell_type": "markdown",
      "id": "d13c7387",
      "metadata": {},
      "source": [
        "As we can see, discount factors of continuous discounting are always bigger than those of discrete discounting. Difference between two types of discounts factors increase with time."
      ]
    },
    {
      "cell_type": "markdown",
      "id": "6a60a038",
      "metadata": {},
      "source": [
        "## (1d) 10y US Treasury bond\n",
        "\n",
        "Yield of 3% means that the market values the cash flow from the 10y note as if the average (geometric mean) interest rate in the next 10 years will be about 3%. Assuming interest rates of 10% over the next 10 years means that we are overestimating risk-free interest rate. Keeping the discount rate at 10% we will constantly downgrade the NPV of the project, and it may appear as a bed investment even if it is not so. Our suggestion is to reduce discount rates to 3% in order to obtain a picture of expected risk-free rate based on the market view.\n"
      ]
    },
    {
      "cell_type": "markdown",
      "id": "b618fcb9",
      "metadata": {},
      "source": [
        "# 2 Bond Pricing, part I"
      ]
    },
    {
      "cell_type": "markdown",
      "id": "c2149027",
      "metadata": {},
      "source": [
        "## (2a) Price, current yield and yield to maturity"
      ]
    },
    {
      "cell_type": "code",
      "execution_count": 40,
      "id": "LVtFNCrfQv1F",
      "metadata": {
        "colab": {
          "base_uri": "https://localhost:8080/",
          "height": 55
        },
        "id": "LVtFNCrfQv1F",
        "outputId": "cc26094d-2b2d-4fd9-95b4-d9515c283047"
      },
      "outputs": [
        {
          "data": {
            "text/plain": [
              "[4.0, 4.0, 4.0, 4.0, 104]"
            ]
          },
          "execution_count": 40,
          "metadata": {},
          "output_type": "execute_result"
        }
      ],
      "source": [
        "rates=[2/100,2.5/100,3/100,3.5/100,4/100]\n",
        "cf=[100*.04]*(len(rates)-1) # list of coupon payments with $4% coupon rate with a face value of $100\n",
        "cf.append(104) # principal + the last coupon\n",
        "cf"
      ]
    },
    {
      "cell_type": "code",
      "execution_count": 41,
      "id": "fe241768",
      "metadata": {},
      "outputs": [
        {
          "name": "stdout",
          "output_type": "stream",
          "text": [
            "bond price (discrete discounting): $18.531167061100007\n"
          ]
        }
      ],
      "source": [
        "discounted_flow=[]\n",
        "\n",
        "for i in range(len(rates)):\n",
        "    discounted_flow.append(cf[i]/(1+rates[i])**(i+1))\n",
        "print(\"bond price (discrete discounting): $\"+str(sum(df)))"
      ]
    },
    {
      "cell_type": "code",
      "execution_count": 42,
      "id": "7e18ff3f",
      "metadata": {},
      "outputs": [
        {
          "data": {
            "text/plain": [
              "3.9858271613659255"
            ]
          },
          "execution_count": 42,
          "metadata": {},
          "output_type": "execute_result"
        }
      ],
      "source": [
        "# current yield = coupon / market values   in percents\n",
        "\n",
        "(100*.04)/sum(discounted_flow) * 100"
      ]
    },
    {
      "cell_type": "code",
      "execution_count": 43,
      "id": "6bc6fd8d",
      "metadata": {},
      "outputs": [
        {
          "data": {
            "text/latex": [
              "$\\displaystyle 3.92030563261448$"
            ],
            "text/plain": [
              "3.92030563261448"
            ]
          },
          "execution_count": 43,
          "metadata": {},
          "output_type": "execute_result"
        }
      ],
      "source": [
        "# yield to maturity\n",
        "\n",
        "y=sp.Symbol('y',real='True',positive=True)\n",
        "sp.solve(sp.Eq(lhs=sum([cf[i]/(1+y)**(i+1) for i in range(len(cf))]),rhs=sum(discounted_flow)),y)[0]*100 \n",
        "\n",
        "#yield to maturity 3.92%"
      ]
    },
    {
      "cell_type": "markdown",
      "id": "0ddf5d33",
      "metadata": {},
      "source": [
        "## (2b) Premium or discount\n",
        "\n",
        "This is a premium bond since bond's value is above its par value."
      ]
    },
    {
      "cell_type": "markdown",
      "id": "7285d0fb",
      "metadata": {},
      "source": [
        "## (2c) Price and yield, semi-annually payments"
      ]
    },
    {
      "cell_type": "markdown",
      "id": "4d99d93c",
      "metadata": {},
      "source": [
        "We have to make an assumption regarding expected returns at times which are non-integer numbers of years, i.e. at 0.5 years, 1.5 years etc. We will use linear interpolation (rates increase linearly for 25 basis points every 6 months). We will assume IR at time 0 is 0, hence rate for 6m maturity is 1%."
      ]
    },
    {
      "cell_type": "code",
      "execution_count": 44,
      "id": "HJi2xnMolEyg",
      "metadata": {
        "colab": {
          "base_uri": "https://localhost:8080/"
        },
        "id": "HJi2xnMolEyg",
        "outputId": "21dc8aae-d4b0-4d36-85bb-c735ab68b582"
      },
      "outputs": [
        {
          "name": "stdout",
          "output_type": "stream",
          "text": [
            "100.55028247878369\n"
          ]
        }
      ],
      "source": [
        "\n",
        "rates_6=[1/100,2/100,2.25/100,2.5/100,2.75/100,3/100,3.25/100,3.5/100,3.75/100,4/100]# interpolated\n",
        "cf_6=[100*.04/2]*(len(rates_6)-1) # coupons\n",
        "cf_6.append(102) # principal\n",
        "periods=[0.5*i for i in range(1,len(rates_6)+1)] \n",
        "\n",
        "price=0\n",
        "for i in range(len(cf_6)):\n",
        "  price+=cf_6[i]/((1+rates_6[i])**periods[i])\n",
        "print(price)"
      ]
    },
    {
      "cell_type": "code",
      "execution_count": 45,
      "metadata": {},
      "outputs": [
        {
          "name": "stdout",
          "output_type": "stream",
          "text": [
            "current yield for semi-annual payments: 0.03978109162293013\n"
          ]
        }
      ],
      "source": [
        "#this is still a premium bond\n",
        "#current yield is slightly lower than yield to maturity\n",
        "print(\"current yield for semi-annual payments: \"+str(4/price))"
      ]
    },
    {
      "cell_type": "code",
      "execution_count": 46,
      "id": "s5xh4xq1VTZo",
      "metadata": {
        "colab": {
          "base_uri": "https://localhost:8080/"
        },
        "id": "s5xh4xq1VTZo",
        "outputId": "19ac83bd-c116-42c2-915f-c2cfa24d9132"
      },
      "outputs": [],
      "source": [
        "#ytm calculation\n",
        "\n",
        "y=sp.Symbol('y')\n",
        "#define the NPV for ytm which we solve for x(ytm)\n",
        "def npv(ytm):\n",
        "  return sum(np.array(cf_6)*np.array([1/(1+ytm)**i for i in np.arange(0.5,5.5,0.5)]))\n"
      ]
    },
    {
      "cell_type": "code",
      "execution_count": 47,
      "id": "06e0be54",
      "metadata": {},
      "outputs": [
        {
          "data": {
            "text/latex": [
              "$\\displaystyle \\frac{102.0}{\\left(y + 1\\right)^{5.0}} + \\frac{2.0}{\\left(y + 1\\right)^{4.5}} + \\frac{2.0}{\\left(y + 1\\right)^{4.0}} + \\frac{2.0}{\\left(y + 1\\right)^{3.5}} + \\frac{2.0}{\\left(y + 1\\right)^{3.0}} + \\frac{2.0}{\\left(y + 1\\right)^{2.5}} + \\frac{2.0}{\\left(y + 1\\right)^{2.0}} + \\frac{2.0}{\\left(y + 1\\right)^{1.5}} + \\frac{2.0}{\\left(y + 1\\right)^{1.0}} + \\frac{2.0}{\\left(y + 1\\right)^{0.5}}$"
            ],
            "text/plain": [
              "102.0*(y + 1)**(-5.0) + 2.0*(y + 1)**(-4.5) + 2.0*(y + 1)**(-4.0) + 2.0*(y + 1)**(-3.5) + 2.0*(y + 1)**(-3.0) + 2.0*(y + 1)**(-2.5) + 2.0*(y + 1)**(-2.0) + 2.0*(y + 1)**(-1.5) + 2.0*(y + 1)**(-1.0) + 2.0*(y + 1)**(-0.5)"
            ]
          },
          "execution_count": 47,
          "metadata": {},
          "output_type": "execute_result"
        }
      ],
      "source": [
        "npv(y)"
      ]
    },
    {
      "cell_type": "code",
      "execution_count": 48,
      "id": "fc1a11d4",
      "metadata": {},
      "outputs": [],
      "source": [
        "\n",
        "lista_za_ytm=[]\n",
        "#we use try and error approach.\n",
        "\n",
        "\"The second element of every sublist of list named lista_ya_ytm should be as close as possible to zero.\"\n",
        "\"The first element of every sublist is ytm. We are choosing the ytm for which the second element is the closest to zero\" \n",
        "for i in np.arange(0.02,0.04,0.0001):\n",
        "  lista_za_ytm.append([i,npv(i)-price])\n",
        "\n",
        "minimal = min([n[1] for n in lista_za_ytm  if n[1]>0])\n"
      ]
    },
    {
      "cell_type": "code",
      "execution_count": 49,
      "id": "4fa425a0",
      "metadata": {},
      "outputs": [
        {
          "data": {
            "text/plain": [
              "2.4230531825793378"
            ]
          },
          "execution_count": 49,
          "metadata": {},
          "output_type": "execute_result"
        }
      ],
      "source": [
        "[n[1] for n in lista_za_ytm].index(minimal)#positon of the rate which makes the second element of every sublist the closest to zero\n",
        "\n",
        "lista_za_ytm[191][1]*100 #ytm is lower"
      ]
    },
    {
      "cell_type": "markdown",
      "id": "c96b16db",
      "metadata": {},
      "source": [
        "## (2d)"
      ]
    },
    {
      "cell_type": "code",
      "execution_count": 50,
      "id": "weonmkkKqMRf",
      "metadata": {
        "colab": {
          "base_uri": "https://localhost:8080/"
        },
        "id": "weonmkkKqMRf",
        "outputId": "23379d5e-036c-487a-a294-8d5bd078229d"
      },
      "outputs": [
        {
          "name": "stdout",
          "output_type": "stream",
          "text": [
            "98.15471908378738\n"
          ]
        },
        {
          "data": {
            "text/plain": [
              "[0.0441939586735344]"
            ]
          },
          "execution_count": 50,
          "metadata": {},
          "output_type": "execute_result"
        }
      ],
      "source": [
        "#d\n",
        "rates_1=[i+.5/100 for i in rates]\n",
        "\n",
        "df_1=[]\n",
        "\n",
        "cf=[100*.04]*(len(rates)-1)\n",
        "cf.append(104)\n",
        "\n",
        "cf\n",
        "\n",
        "for i in range(1, len(rates_1)+1):\n",
        "    df_1.append(cf[i-1]/(1+rates_1[i-1])**i)\n",
        "print(sum(df_1))# new price in discrete case\n",
        "\n",
        "\n",
        "\n",
        "(100*.04)/sum(df_1)# new current yield\n",
        "\n",
        "\n",
        "y=sp.Symbol('y',real='True')\n",
        "sol_1=sp.solve(sp.Eq(lhs=sum(np.array(cf)*np.array([1/(1+y)**i for i in range(1,6)])),rhs=sum(df_1)),y)#ytm in discrete case\n",
        "\n",
        "sol_1\n",
        "\n",
        "#this is a discount bond since the ytm is bigger than coupon rate\n",
        "#bond price is below its pair value so this is a discount bond"
      ]
    },
    {
      "cell_type": "markdown",
      "id": "a020ce6c",
      "metadata": {},
      "source": [
        "# 3 bond Pricing, part II"
      ]
    },
    {
      "cell_type": "code",
      "execution_count": 51,
      "id": "exIUSi7Cwuff",
      "metadata": {
        "colab": {
          "base_uri": "https://localhost:8080/",
          "height": 35
        },
        "id": "exIUSi7Cwuff",
        "outputId": "c1fc808c-ab13-44bc-ebf1-2976cc1cad1f"
      },
      "outputs": [
        {
          "data": {
            "text/plain": [
              "'We can see that every number in change up is bigger in absolute value in comparisson to change down'"
            ]
          },
          "execution_count": 51,
          "metadata": {},
          "output_type": "execute_result"
        }
      ],
      "source": [
        "cf_10years_10=[10 for i in range(9)]\n",
        "\n",
        "cf_10years_10.append(110)\n",
        "mr=20/100\n",
        "df_cf_20_10=[]\n",
        "for i in range(1,len(cf_10years_10)+1):\n",
        "  df_cf_20_10.append(cf_10years_10[i-1]/((1+mr)**i))\n",
        "\n",
        "\n",
        "mr_19=19/100\n",
        "df_cf_19_10=[]\n",
        "for i in range(1,len(cf_10years_10)+1):\n",
        "  df_cf_19_10.append(cf_10years_10[i-1]/((1+mr_19  )**i))\n",
        "\n",
        "\n",
        "mr_21=21/100\n",
        "df_cf_21_10=[]\n",
        "for i in range(1,len(cf_10years_10)+1):\n",
        "  df_cf_21_10.append(cf_10years_10[i-1]/((1+mr_21)**i))\n",
        "\n",
        "\n",
        "cf_10years_20=[20 for i in range(9)]\n",
        "\n",
        "cf_10years_20.append(120)\n",
        "mr=20/100\n",
        "df_cf_20_rate_20=[]\n",
        "for i in range(1,len(cf_10years_20)+1):\n",
        "  df_cf_20_rate_20.append(cf_10years_20[i-1]/((1+mr)**i))\n",
        "\n",
        "\n",
        "mr_19=19/100\n",
        "df_cf_19_rate_20=[]\n",
        "for i in range(1,len(cf_10years_20)+1):\n",
        "  df_cf_19_rate_20.append(cf_10years_20[i-1]/((1+mr_19)**i))\n",
        "\n",
        "\n",
        "mr_21=21/100\n",
        "df_cf_21_rate_20=[]\n",
        "for i in range(1,len(cf_10years_20)+1):\n",
        "  df_cf_21_rate_20.append(cf_10years_20[i-1]/((1+mr_21)**i))\n",
        "\n",
        "cf_10years_30=[30 for i in range(9)]\n",
        "\n",
        "cf_10years_30.append(130)\n",
        "mr=20/100\n",
        "df_cf_20_rate_30=[]\n",
        "for i in range(1,len(cf_10years_30)+1):\n",
        "  df_cf_20_rate_30.append(cf_10years_30[i-1]/((1+mr)**i))\n",
        "\n",
        "mr_19=19/100\n",
        "df_cf_19_rate_30=[]\n",
        "for i in range(1,len(cf_10years_30)+1):\n",
        "  df_cf_19_rate_30.append(cf_10years_30[i-1]/((1+mr_19)**i))\n",
        "\n",
        "mr_21=21/100\n",
        "df_cf_21_rate_30=[]\n",
        "for i in range(1,len(cf_10years_30)+1):\n",
        "  df_cf_21_rate_30.append(cf_10years_30[i-1]/((1+mr_21)**i))\n",
        "\n",
        "\n",
        "data={'Bond':['A','B','C'],'Coupon rate':[10,20,30],'Maturity':[10]*3,'Price at 20%':[sum(df_cf_20_10),sum(df_cf_20_rate_20),sum(df_cf_20_rate_30)],'Price at 19%':[sum(df_cf_19_10),sum(df_cf_19_rate_20),sum(df_cf_19_rate_30)],'Change % down':[(sum(df_cf_19_10)-sum(df_cf_20_10))/sum(df_cf_20_10),(sum(df_cf_19_rate_20)-sum(df_cf_20_rate_20))/sum(df_cf_20_rate_20),(sum(df_cf_19_rate_30)-sum(df_cf_20_rate_30))/sum(df_cf_20_rate_30)],'Price at 21%':[sum(df_cf_21_10),sum(df_cf_21_rate_20),sum(df_cf_21_rate_30)],'Change % up':[(sum(df_cf_21_10)-sum(df_cf_20_10))/sum(df_cf_20_10),(sum(df_cf_21_rate_20)-sum(df_cf_20_rate_20))/sum(df_cf_20_rate_20),(sum(df_cf_21_rate_30)-sum(df_cf_20_rate_30))/sum(df_cf_20_rate_30)]}\n",
        "\n",
        "pd.DataFrame(data)\n",
        "\n",
        "\"We can see that every number in change up is bigger in absolute value in comparisson to change down\"\n"
      ]
    },
    {
      "cell_type": "code",
      "execution_count": 52,
      "id": "Y86QjCC0f3NJ",
      "metadata": {
        "colab": {
          "base_uri": "https://localhost:8080/",
          "height": 143
        },
        "id": "Y86QjCC0f3NJ",
        "outputId": "c4f0d696-11f2-4945-8f6f-d3397d974211"
      },
      "outputs": [
        {
          "data": {
            "text/html": [
              "<div>\n",
              "<style scoped>\n",
              "    .dataframe tbody tr th:only-of-type {\n",
              "        vertical-align: middle;\n",
              "    }\n",
              "\n",
              "    .dataframe tbody tr th {\n",
              "        vertical-align: top;\n",
              "    }\n",
              "\n",
              "    .dataframe thead th {\n",
              "        text-align: right;\n",
              "    }\n",
              "</style>\n",
              "<table border=\"1\" class=\"dataframe\">\n",
              "  <thead>\n",
              "    <tr style=\"text-align: right;\">\n",
              "      <th></th>\n",
              "      <th>Bond</th>\n",
              "      <th>Coupon rate</th>\n",
              "      <th>Maturity</th>\n",
              "      <th>Price at 20%</th>\n",
              "      <th>Price at 19%</th>\n",
              "      <th>Change % down</th>\n",
              "      <th>Price at 21%</th>\n",
              "      <th>Change % up</th>\n",
              "    </tr>\n",
              "  </thead>\n",
              "  <tbody>\n",
              "    <tr>\n",
              "      <th>0</th>\n",
              "      <td>A</td>\n",
              "      <td>10</td>\n",
              "      <td>10</td>\n",
              "      <td>58.075279</td>\n",
              "      <td>60.949586</td>\n",
              "      <td>0.049493</td>\n",
              "      <td>55.405142</td>\n",
              "      <td>-0.045977</td>\n",
              "    </tr>\n",
              "    <tr>\n",
              "      <th>1</th>\n",
              "      <td>B</td>\n",
              "      <td>20</td>\n",
              "      <td>10</td>\n",
              "      <td>100.000000</td>\n",
              "      <td>104.338935</td>\n",
              "      <td>0.043389</td>\n",
              "      <td>95.945922</td>\n",
              "      <td>-0.040541</td>\n",
              "    </tr>\n",
              "    <tr>\n",
              "      <th>2</th>\n",
              "      <td>C</td>\n",
              "      <td>30</td>\n",
              "      <td>10</td>\n",
              "      <td>141.924721</td>\n",
              "      <td>147.728284</td>\n",
              "      <td>0.040892</td>\n",
              "      <td>136.486702</td>\n",
              "      <td>-0.038316</td>\n",
              "    </tr>\n",
              "  </tbody>\n",
              "</table>\n",
              "</div>"
            ],
            "text/plain": [
              "  Bond  Coupon rate  Maturity  Price at 20%  Price at 19%  Change % down  \\\n",
              "0    A           10        10     58.075279     60.949586       0.049493   \n",
              "1    B           20        10    100.000000    104.338935       0.043389   \n",
              "2    C           30        10    141.924721    147.728284       0.040892   \n",
              "\n",
              "   Price at 21%  Change % up  \n",
              "0     55.405142    -0.045977  \n",
              "1     95.945922    -0.040541  \n",
              "2    136.486702    -0.038316  "
            ]
          },
          "execution_count": 52,
          "metadata": {},
          "output_type": "execute_result"
        }
      ],
      "source": [
        "\n",
        "\"We can see that every number in change up is bigger in absolute value in comparisson to change down. Moreover the bigger  coupon the lower pct change of bond price in absolute is \"\n",
        "\n",
        "pd.DataFrame(data)"
      ]
    },
    {
      "cell_type": "code",
      "execution_count": 53,
      "id": "vMnkCDoDGiD-",
      "metadata": {
        "colab": {
          "base_uri": "https://localhost:8080/",
          "height": 52
        },
        "id": "vMnkCDoDGiD-",
        "outputId": "2e4af4ed-cb84-4a05-9bbe-04d4081bed8a"
      },
      "outputs": [
        {
          "name": "stdout",
          "output_type": "stream",
          "text": [
            "46.442450944 58.07527914449231 74.90615687072889 99.99999999999994 138.608674645924\n"
          ]
        },
        {
          "data": {
            "text/plain": [
              "'On the graph we can see that the relationship between bond prices and discount rates is concave.'"
            ]
          },
          "execution_count": 53,
          "metadata": {},
          "output_type": "execute_result"
        }
      ],
      "source": [
        "\n",
        "cf_10years_10=[10 for i in range(9)]\n",
        "\n",
        "cf_10years_10.append(110)\n",
        "mr=20/100\n",
        "df_cf_20=[]\n",
        "for i in range(1,len(cf_10years_10)+1):\n",
        "  df_cf_20.append(cf_10years_10[i-1]/((1+mr)**i))\n",
        "\n",
        "cf_10years_10=[10 for i in range(9)]\n",
        "\n",
        "cf_10years_10.append(110)\n",
        "mr_15=15/100\n",
        "df_cf_15=[]\n",
        "for i in range(1,len(cf_10years_10)+1):\n",
        "  df_cf_15.append(cf_10years_10[i-1]/((1+mr_15)**i))\n",
        "\n",
        "cf_10years_10=[10 for i in range(9)]\n",
        "\n",
        "cf_10years_10.append(110)\n",
        "mr_10=10/100\n",
        "df_cf_10=[]\n",
        "for i in range(1,len(cf_10years_10)+1):\n",
        "  df_cf_10.append(cf_10years_10[i-1]/((1+mr_10)**i))\n",
        "\n",
        "cf_10years_10=[10 for i in range(9)]\n",
        "\n",
        "cf_10years_10.append(110)\n",
        "mr_5=5/100\n",
        "df_cf_5=[]\n",
        "for i in range(1,len(cf_10years_10)+1):\n",
        "  df_cf_5.append(cf_10years_10[i-1]/((1+mr_5)**i))\n",
        "\n",
        "cf_10years_10=[10 for i in range(9)]\n",
        "\n",
        "cf_10years_10.append(110)\n",
        "mr_25=25/100\n",
        "df_cf_25=[]\n",
        "for i in range(1,len(cf_10years_10)+1):\n",
        "  df_cf_25.append(cf_10years_10[i-1]/((1+mr_25)**i))\n",
        "\n",
        "print(sum(df_cf_25),sum(df_cf_20),sum(df_cf_15),sum(df_cf_10),sum(df_cf_5))\n",
        "\n",
        "fig=go.Figure()\n",
        "fig.add_traces(go.Scatter(x=list(range(25,5,-5)),y=[sum(df_cf_25),sum(df_cf_20),sum(df_cf_15),sum(df_cf_10),sum(df_cf_5)]))\n",
        "\n",
        "\"On the graph we can see that the relationship between bond prices and discount rates is concave.\""
      ]
    },
    {
      "cell_type": "code",
      "execution_count": 54,
      "id": "QUCt-Dl11K_l",
      "metadata": {
        "colab": {
          "base_uri": "https://localhost:8080/",
          "height": 112
        },
        "id": "QUCt-Dl11K_l",
        "outputId": "cad71e26-12c0-44be-fb7d-1d5ea885e80e"
      },
      "outputs": [
        {
          "data": {
            "text/html": [
              "<div>\n",
              "<style scoped>\n",
              "    .dataframe tbody tr th:only-of-type {\n",
              "        vertical-align: middle;\n",
              "    }\n",
              "\n",
              "    .dataframe tbody tr th {\n",
              "        vertical-align: top;\n",
              "    }\n",
              "\n",
              "    .dataframe thead th {\n",
              "        text-align: right;\n",
              "    }\n",
              "</style>\n",
              "<table border=\"1\" class=\"dataframe\">\n",
              "  <thead>\n",
              "    <tr style=\"text-align: right;\">\n",
              "      <th></th>\n",
              "      <th>Maturity</th>\n",
              "      <th>Price at 20</th>\n",
              "      <th>Price at 19</th>\n",
              "      <th>Price at 21</th>\n",
              "      <th>Pct_change_20_to_19</th>\n",
              "      <th>Pct_change_20_to_21</th>\n",
              "    </tr>\n",
              "  </thead>\n",
              "  <tbody>\n",
              "    <tr>\n",
              "      <th>0</th>\n",
              "      <td>10</td>\n",
              "      <td>58.075279</td>\n",
              "      <td>60.949586</td>\n",
              "      <td>55.405142</td>\n",
              "      <td>0.049493</td>\n",
              "      <td>-0.045977</td>\n",
              "    </tr>\n",
              "    <tr>\n",
              "      <th>1</th>\n",
              "      <td>30</td>\n",
              "      <td>50.210636</td>\n",
              "      <td>52.888075</td>\n",
              "      <td>47.791081</td>\n",
              "      <td>0.053324</td>\n",
              "      <td>-0.048188</td>\n",
              "    </tr>\n",
              "  </tbody>\n",
              "</table>\n",
              "</div>"
            ],
            "text/plain": [
              "   Maturity  Price at 20  Price at 19  Price at 21  Pct_change_20_to_19  \\\n",
              "0        10    58.075279    60.949586    55.405142             0.049493   \n",
              "1        30    50.210636    52.888075    47.791081             0.053324   \n",
              "\n",
              "   Pct_change_20_to_21  \n",
              "0            -0.045977  \n",
              "1            -0.048188  "
            ]
          },
          "execution_count": 54,
          "metadata": {},
          "output_type": "execute_result"
        }
      ],
      "source": [
        "3#b\n",
        "\n",
        "\n",
        "cf=[]\n",
        "lista=[9,19,29]\n",
        "cf_10=[]\n",
        "cf_20=[]\n",
        "\n",
        "cf_30=[]\n",
        "\n",
        "for i in range(len(lista)):\n",
        "  cf.append([10]*lista[i])\n",
        "  \n",
        "cf_10=cf[0]\n",
        "\n",
        "cf_20=cf[1]\n",
        "\n",
        "cf_30=cf[2]\n",
        "\n",
        "cf_10.append(110)\n",
        "\n",
        "cf_20.append(110)\n",
        "\n",
        "cf_30.append(110)\n",
        "\n",
        "\n",
        "\n",
        "price_10=0\n",
        "price_20=0\n",
        "price_30=0\n",
        "\n",
        "for i in range(len(cf_10)):\n",
        "  price_10+=cf_10[i]/(1.2)**(i+1)\n",
        "for i in range(len(cf_20)):\n",
        "  price_20+=cf_20[i]/(1.2)**(i+1)\n",
        "for i in range(len(cf_30)):\n",
        "  price_30+=cf_30[i]/(1.2)**(i+1)\n",
        "\n",
        "price_10_19=0\n",
        "price_20_19=0\n",
        "price_30_19=0\n",
        "\n",
        "for i in range(len(cf_10)):\n",
        "  price_10_19+=cf_10[i]/(1.19)**(i+1)\n",
        "for i in range(len(cf_20)):\n",
        "  price_20_19+=cf_20[i]/(1.19)**(i+1)\n",
        "for i in range(len(cf_30)):\n",
        "  price_30_19+=cf_30[i]/(1.19)**(i+1)\n",
        "\n",
        "\n",
        "price_10_21=0\n",
        "price_20_21=0\n",
        "price_30_21=0\n",
        "\n",
        "\n",
        "for i in range(len(cf_10)):\n",
        "  price_10_21+=cf_10[i]/(1.21)**(i+1)\n",
        "for i in range(len(cf_20)):\n",
        "  price_20_21+=cf_20[i]/(1.21)**(i+1)\n",
        "for i in range(len(cf_30)):\n",
        "  price_30_21+=cf_30[i]/(1.21)**(i+1)\n",
        "\n",
        "\n",
        "import pandas as pd\n",
        "\n",
        "data1={'Maturity':[10,30],'Price at 20':[price_10,price_30],'Price at 19':[price_10_19,price_30_19],'Price at 21':[price_10_21,price_30_21],'Pct_change_20_to_19':[(price_10_19-price_10)/price_10,(price_30_19-price_30)/price_30],'Pct_change_20_to_21':[(price_10_21-price_10)/price_10,(price_30_21-price_30)/price_30]}\n",
        "\n",
        "\n",
        "pd.DataFrame(data1)\n",
        "\n",
        "\"Absolute value of every pct_change in second row(labeled with 1) is bigger then every absolute value of pct_change in the first row(labeled with 0)\"\n",
        "\"This proves the higher sensitivity with respect to discount rate change of the bond with longer tensors in comparisson to the bond with rshorter tensors \"\n",
        "\n",
        "pd.DataFrame(data1)"
      ]
    },
    {
      "cell_type": "markdown",
      "id": "425f2d78",
      "metadata": {},
      "source": [
        "# 4 Accrued Interest"
      ]
    },
    {
      "cell_type": "code",
      "execution_count": 55,
      "id": "hkYT3Er6q_IW",
      "metadata": {
        "colab": {
          "base_uri": "https://localhost:8080/"
        },
        "id": "hkYT3Er6q_IW",
        "outputId": "09cf02e5-af0e-4035-bc40-372b173d732e"
      },
      "outputs": [
        {
          "name": "stdout",
          "output_type": "stream",
          "text": [
            "51 915\n"
          ]
        }
      ],
      "source": [
        "par=100\n",
        "coupon_rate=0.04/2\n",
        "y=0.03/2\n",
        "\n",
        "from datetime import date\n",
        "\n",
        "d0 = date(2022, 5, 15)\n",
        "d1 = date(2022, 7, 5)\n",
        "d2 = date(2024, 11, 15)\n",
        "delta = d1-d0 # days until next payment\n",
        "delta_1 = d2-d0 # days until maturity\n",
        "print(delta.days, delta_1.days)\n"
      ]
    },
    {
      "cell_type": "markdown",
      "id": "274aa44d",
      "metadata": {},
      "source": [
        "## (4a) Compute the accrued interest"
      ]
    },
    {
      "cell_type": "code",
      "execution_count": 56,
      "id": "06afbc8c",
      "metadata": {},
      "outputs": [
        {
          "data": {
            "text/plain": [
              "0.27945205479452057"
            ]
          },
          "execution_count": 56,
          "metadata": {},
          "output_type": "execute_result"
        }
      ],
      "source": [
        "AIR = delta.days/(365/2) # accured interest\n",
        "AIR"
      ]
    },
    {
      "cell_type": "markdown",
      "id": "d3911797",
      "metadata": {},
      "source": [
        "## (4b) Calculate the clean and dirty price"
      ]
    },
    {
      "cell_type": "code",
      "execution_count": 57,
      "id": "fcb4013d",
      "metadata": {},
      "outputs": [],
      "source": [
        "cf_3=[par*coupon_rate]*5\n",
        "cf_3.append(102)\n",
        "\n",
        "rates_3=[(1+y)**(i/10) for i in list(range(5,35,5))]\n",
        "\n",
        "df_3=[]\n",
        "\n",
        "for i in range(len(rates_3)):\n",
        "    df_3.append(cf_3[i]/rates_3[i])"
      ]
    },
    {
      "cell_type": "code",
      "execution_count": 58,
      "id": "7xnw5BdJetwW",
      "metadata": {
        "colab": {
          "base_uri": "https://localhost:8080/"
        },
        "id": "7xnw5BdJetwW",
        "outputId": "4b8f50a4-58d9-410b-c1ff-86c53fa5d120"
      },
      "outputs": [
        {
          "name": "stdout",
          "output_type": "stream",
          "text": [
            "0.11147540983606558\n",
            "107.32402145533423\n"
          ]
        },
        {
          "data": {
            "text/plain": [
              "108.32485165685071"
            ]
          },
          "execution_count": 58,
          "metadata": {},
          "output_type": "execute_result"
        }
      ],
      "source": [
        "print(delta.days/delta_1.days*2) #accured interest\n",
        "print(sum(df_3))#clean bond price\n",
        "((1+y)**(delta.days/delta_1.days))+sum(df_3)#dirty bond price"
      ]
    },
    {
      "cell_type": "code",
      "execution_count": 59,
      "id": "2qC-v7F0riqC",
      "metadata": {
        "colab": {
          "base_uri": "https://localhost:8080/",
          "height": 559
        },
        "id": "2qC-v7F0riqC",
        "outputId": "3b25d5d9-9630-4e16-ef2b-5fef163482a3"
      },
      "outputs": [
        {
          "name": "stdout",
          "output_type": "stream",
          "text": [
            "[0.030000000000000002, 0.039999999999999994, 0.05000000000000002, 0.06, 0.05499999999999999, 0.06, 0.061, 0.055999999999999994, 0.05299999999999999]\n"
          ]
        },
        {
          "data": {
            "application/vnd.plotly.v1+json": {
              "config": {
                "plotlyServerURL": "https://plot.ly"
              },
              "data": [
                {
                  "name": "Forward rates",
                  "type": "scatter",
                  "x": [
                    1,
                    2,
                    3,
                    4,
                    5,
                    6,
                    7,
                    8,
                    9
                  ],
                  "y": [
                    0.030000000000000002,
                    0.039999999999999994,
                    0.05000000000000002,
                    0.06,
                    0.05499999999999999,
                    0.06,
                    0.061,
                    0.055999999999999994,
                    0.05299999999999999
                  ]
                },
                {
                  "name": "Spot rates",
                  "type": "scatter",
                  "y": [
                    0.02,
                    0.025,
                    0.03,
                    0.035,
                    0.04,
                    0.0425,
                    0.045,
                    0.047,
                    0.048,
                    0.0485
                  ]
                }
              ],
              "layout": {
                "template": {
                  "data": {
                    "bar": [
                      {
                        "error_x": {
                          "color": "#2a3f5f"
                        },
                        "error_y": {
                          "color": "#2a3f5f"
                        },
                        "marker": {
                          "line": {
                            "color": "#E5ECF6",
                            "width": 0.5
                          }
                        },
                        "type": "bar"
                      }
                    ],
                    "barpolar": [
                      {
                        "marker": {
                          "line": {
                            "color": "#E5ECF6",
                            "width": 0.5
                          }
                        },
                        "type": "barpolar"
                      }
                    ],
                    "carpet": [
                      {
                        "aaxis": {
                          "endlinecolor": "#2a3f5f",
                          "gridcolor": "white",
                          "linecolor": "white",
                          "minorgridcolor": "white",
                          "startlinecolor": "#2a3f5f"
                        },
                        "baxis": {
                          "endlinecolor": "#2a3f5f",
                          "gridcolor": "white",
                          "linecolor": "white",
                          "minorgridcolor": "white",
                          "startlinecolor": "#2a3f5f"
                        },
                        "type": "carpet"
                      }
                    ],
                    "choropleth": [
                      {
                        "colorbar": {
                          "outlinewidth": 0,
                          "ticks": ""
                        },
                        "type": "choropleth"
                      }
                    ],
                    "contour": [
                      {
                        "colorbar": {
                          "outlinewidth": 0,
                          "ticks": ""
                        },
                        "colorscale": [
                          [
                            0,
                            "#0d0887"
                          ],
                          [
                            0.1111111111111111,
                            "#46039f"
                          ],
                          [
                            0.2222222222222222,
                            "#7201a8"
                          ],
                          [
                            0.3333333333333333,
                            "#9c179e"
                          ],
                          [
                            0.4444444444444444,
                            "#bd3786"
                          ],
                          [
                            0.5555555555555556,
                            "#d8576b"
                          ],
                          [
                            0.6666666666666666,
                            "#ed7953"
                          ],
                          [
                            0.7777777777777778,
                            "#fb9f3a"
                          ],
                          [
                            0.8888888888888888,
                            "#fdca26"
                          ],
                          [
                            1,
                            "#f0f921"
                          ]
                        ],
                        "type": "contour"
                      }
                    ],
                    "contourcarpet": [
                      {
                        "colorbar": {
                          "outlinewidth": 0,
                          "ticks": ""
                        },
                        "type": "contourcarpet"
                      }
                    ],
                    "heatmap": [
                      {
                        "colorbar": {
                          "outlinewidth": 0,
                          "ticks": ""
                        },
                        "colorscale": [
                          [
                            0,
                            "#0d0887"
                          ],
                          [
                            0.1111111111111111,
                            "#46039f"
                          ],
                          [
                            0.2222222222222222,
                            "#7201a8"
                          ],
                          [
                            0.3333333333333333,
                            "#9c179e"
                          ],
                          [
                            0.4444444444444444,
                            "#bd3786"
                          ],
                          [
                            0.5555555555555556,
                            "#d8576b"
                          ],
                          [
                            0.6666666666666666,
                            "#ed7953"
                          ],
                          [
                            0.7777777777777778,
                            "#fb9f3a"
                          ],
                          [
                            0.8888888888888888,
                            "#fdca26"
                          ],
                          [
                            1,
                            "#f0f921"
                          ]
                        ],
                        "type": "heatmap"
                      }
                    ],
                    "heatmapgl": [
                      {
                        "colorbar": {
                          "outlinewidth": 0,
                          "ticks": ""
                        },
                        "colorscale": [
                          [
                            0,
                            "#0d0887"
                          ],
                          [
                            0.1111111111111111,
                            "#46039f"
                          ],
                          [
                            0.2222222222222222,
                            "#7201a8"
                          ],
                          [
                            0.3333333333333333,
                            "#9c179e"
                          ],
                          [
                            0.4444444444444444,
                            "#bd3786"
                          ],
                          [
                            0.5555555555555556,
                            "#d8576b"
                          ],
                          [
                            0.6666666666666666,
                            "#ed7953"
                          ],
                          [
                            0.7777777777777778,
                            "#fb9f3a"
                          ],
                          [
                            0.8888888888888888,
                            "#fdca26"
                          ],
                          [
                            1,
                            "#f0f921"
                          ]
                        ],
                        "type": "heatmapgl"
                      }
                    ],
                    "histogram": [
                      {
                        "marker": {
                          "colorbar": {
                            "outlinewidth": 0,
                            "ticks": ""
                          }
                        },
                        "type": "histogram"
                      }
                    ],
                    "histogram2d": [
                      {
                        "colorbar": {
                          "outlinewidth": 0,
                          "ticks": ""
                        },
                        "colorscale": [
                          [
                            0,
                            "#0d0887"
                          ],
                          [
                            0.1111111111111111,
                            "#46039f"
                          ],
                          [
                            0.2222222222222222,
                            "#7201a8"
                          ],
                          [
                            0.3333333333333333,
                            "#9c179e"
                          ],
                          [
                            0.4444444444444444,
                            "#bd3786"
                          ],
                          [
                            0.5555555555555556,
                            "#d8576b"
                          ],
                          [
                            0.6666666666666666,
                            "#ed7953"
                          ],
                          [
                            0.7777777777777778,
                            "#fb9f3a"
                          ],
                          [
                            0.8888888888888888,
                            "#fdca26"
                          ],
                          [
                            1,
                            "#f0f921"
                          ]
                        ],
                        "type": "histogram2d"
                      }
                    ],
                    "histogram2dcontour": [
                      {
                        "colorbar": {
                          "outlinewidth": 0,
                          "ticks": ""
                        },
                        "colorscale": [
                          [
                            0,
                            "#0d0887"
                          ],
                          [
                            0.1111111111111111,
                            "#46039f"
                          ],
                          [
                            0.2222222222222222,
                            "#7201a8"
                          ],
                          [
                            0.3333333333333333,
                            "#9c179e"
                          ],
                          [
                            0.4444444444444444,
                            "#bd3786"
                          ],
                          [
                            0.5555555555555556,
                            "#d8576b"
                          ],
                          [
                            0.6666666666666666,
                            "#ed7953"
                          ],
                          [
                            0.7777777777777778,
                            "#fb9f3a"
                          ],
                          [
                            0.8888888888888888,
                            "#fdca26"
                          ],
                          [
                            1,
                            "#f0f921"
                          ]
                        ],
                        "type": "histogram2dcontour"
                      }
                    ],
                    "mesh3d": [
                      {
                        "colorbar": {
                          "outlinewidth": 0,
                          "ticks": ""
                        },
                        "type": "mesh3d"
                      }
                    ],
                    "parcoords": [
                      {
                        "line": {
                          "colorbar": {
                            "outlinewidth": 0,
                            "ticks": ""
                          }
                        },
                        "type": "parcoords"
                      }
                    ],
                    "pie": [
                      {
                        "automargin": true,
                        "type": "pie"
                      }
                    ],
                    "scatter": [
                      {
                        "marker": {
                          "colorbar": {
                            "outlinewidth": 0,
                            "ticks": ""
                          }
                        },
                        "type": "scatter"
                      }
                    ],
                    "scatter3d": [
                      {
                        "line": {
                          "colorbar": {
                            "outlinewidth": 0,
                            "ticks": ""
                          }
                        },
                        "marker": {
                          "colorbar": {
                            "outlinewidth": 0,
                            "ticks": ""
                          }
                        },
                        "type": "scatter3d"
                      }
                    ],
                    "scattercarpet": [
                      {
                        "marker": {
                          "colorbar": {
                            "outlinewidth": 0,
                            "ticks": ""
                          }
                        },
                        "type": "scattercarpet"
                      }
                    ],
                    "scattergeo": [
                      {
                        "marker": {
                          "colorbar": {
                            "outlinewidth": 0,
                            "ticks": ""
                          }
                        },
                        "type": "scattergeo"
                      }
                    ],
                    "scattergl": [
                      {
                        "marker": {
                          "colorbar": {
                            "outlinewidth": 0,
                            "ticks": ""
                          }
                        },
                        "type": "scattergl"
                      }
                    ],
                    "scattermapbox": [
                      {
                        "marker": {
                          "colorbar": {
                            "outlinewidth": 0,
                            "ticks": ""
                          }
                        },
                        "type": "scattermapbox"
                      }
                    ],
                    "scatterpolar": [
                      {
                        "marker": {
                          "colorbar": {
                            "outlinewidth": 0,
                            "ticks": ""
                          }
                        },
                        "type": "scatterpolar"
                      }
                    ],
                    "scatterpolargl": [
                      {
                        "marker": {
                          "colorbar": {
                            "outlinewidth": 0,
                            "ticks": ""
                          }
                        },
                        "type": "scatterpolargl"
                      }
                    ],
                    "scatterternary": [
                      {
                        "marker": {
                          "colorbar": {
                            "outlinewidth": 0,
                            "ticks": ""
                          }
                        },
                        "type": "scatterternary"
                      }
                    ],
                    "surface": [
                      {
                        "colorbar": {
                          "outlinewidth": 0,
                          "ticks": ""
                        },
                        "colorscale": [
                          [
                            0,
                            "#0d0887"
                          ],
                          [
                            0.1111111111111111,
                            "#46039f"
                          ],
                          [
                            0.2222222222222222,
                            "#7201a8"
                          ],
                          [
                            0.3333333333333333,
                            "#9c179e"
                          ],
                          [
                            0.4444444444444444,
                            "#bd3786"
                          ],
                          [
                            0.5555555555555556,
                            "#d8576b"
                          ],
                          [
                            0.6666666666666666,
                            "#ed7953"
                          ],
                          [
                            0.7777777777777778,
                            "#fb9f3a"
                          ],
                          [
                            0.8888888888888888,
                            "#fdca26"
                          ],
                          [
                            1,
                            "#f0f921"
                          ]
                        ],
                        "type": "surface"
                      }
                    ],
                    "table": [
                      {
                        "cells": {
                          "fill": {
                            "color": "#EBF0F8"
                          },
                          "line": {
                            "color": "white"
                          }
                        },
                        "header": {
                          "fill": {
                            "color": "#C8D4E3"
                          },
                          "line": {
                            "color": "white"
                          }
                        },
                        "type": "table"
                      }
                    ]
                  },
                  "layout": {
                    "annotationdefaults": {
                      "arrowcolor": "#2a3f5f",
                      "arrowhead": 0,
                      "arrowwidth": 1
                    },
                    "coloraxis": {
                      "colorbar": {
                        "outlinewidth": 0,
                        "ticks": ""
                      }
                    },
                    "colorscale": {
                      "diverging": [
                        [
                          0,
                          "#8e0152"
                        ],
                        [
                          0.1,
                          "#c51b7d"
                        ],
                        [
                          0.2,
                          "#de77ae"
                        ],
                        [
                          0.3,
                          "#f1b6da"
                        ],
                        [
                          0.4,
                          "#fde0ef"
                        ],
                        [
                          0.5,
                          "#f7f7f7"
                        ],
                        [
                          0.6,
                          "#e6f5d0"
                        ],
                        [
                          0.7,
                          "#b8e186"
                        ],
                        [
                          0.8,
                          "#7fbc41"
                        ],
                        [
                          0.9,
                          "#4d9221"
                        ],
                        [
                          1,
                          "#276419"
                        ]
                      ],
                      "sequential": [
                        [
                          0,
                          "#0d0887"
                        ],
                        [
                          0.1111111111111111,
                          "#46039f"
                        ],
                        [
                          0.2222222222222222,
                          "#7201a8"
                        ],
                        [
                          0.3333333333333333,
                          "#9c179e"
                        ],
                        [
                          0.4444444444444444,
                          "#bd3786"
                        ],
                        [
                          0.5555555555555556,
                          "#d8576b"
                        ],
                        [
                          0.6666666666666666,
                          "#ed7953"
                        ],
                        [
                          0.7777777777777778,
                          "#fb9f3a"
                        ],
                        [
                          0.8888888888888888,
                          "#fdca26"
                        ],
                        [
                          1,
                          "#f0f921"
                        ]
                      ],
                      "sequentialminus": [
                        [
                          0,
                          "#0d0887"
                        ],
                        [
                          0.1111111111111111,
                          "#46039f"
                        ],
                        [
                          0.2222222222222222,
                          "#7201a8"
                        ],
                        [
                          0.3333333333333333,
                          "#9c179e"
                        ],
                        [
                          0.4444444444444444,
                          "#bd3786"
                        ],
                        [
                          0.5555555555555556,
                          "#d8576b"
                        ],
                        [
                          0.6666666666666666,
                          "#ed7953"
                        ],
                        [
                          0.7777777777777778,
                          "#fb9f3a"
                        ],
                        [
                          0.8888888888888888,
                          "#fdca26"
                        ],
                        [
                          1,
                          "#f0f921"
                        ]
                      ]
                    },
                    "colorway": [
                      "#636efa",
                      "#EF553B",
                      "#00cc96",
                      "#ab63fa",
                      "#FFA15A",
                      "#19d3f3",
                      "#FF6692",
                      "#B6E880",
                      "#FF97FF",
                      "#FECB52"
                    ],
                    "font": {
                      "color": "#2a3f5f"
                    },
                    "geo": {
                      "bgcolor": "white",
                      "lakecolor": "white",
                      "landcolor": "#E5ECF6",
                      "showlakes": true,
                      "showland": true,
                      "subunitcolor": "white"
                    },
                    "hoverlabel": {
                      "align": "left"
                    },
                    "hovermode": "closest",
                    "mapbox": {
                      "style": "light"
                    },
                    "paper_bgcolor": "white",
                    "plot_bgcolor": "#E5ECF6",
                    "polar": {
                      "angularaxis": {
                        "gridcolor": "white",
                        "linecolor": "white",
                        "ticks": ""
                      },
                      "bgcolor": "#E5ECF6",
                      "radialaxis": {
                        "gridcolor": "white",
                        "linecolor": "white",
                        "ticks": ""
                      }
                    },
                    "scene": {
                      "xaxis": {
                        "backgroundcolor": "#E5ECF6",
                        "gridcolor": "white",
                        "gridwidth": 2,
                        "linecolor": "white",
                        "showbackground": true,
                        "ticks": "",
                        "zerolinecolor": "white"
                      },
                      "yaxis": {
                        "backgroundcolor": "#E5ECF6",
                        "gridcolor": "white",
                        "gridwidth": 2,
                        "linecolor": "white",
                        "showbackground": true,
                        "ticks": "",
                        "zerolinecolor": "white"
                      },
                      "zaxis": {
                        "backgroundcolor": "#E5ECF6",
                        "gridcolor": "white",
                        "gridwidth": 2,
                        "linecolor": "white",
                        "showbackground": true,
                        "ticks": "",
                        "zerolinecolor": "white"
                      }
                    },
                    "shapedefaults": {
                      "line": {
                        "color": "#2a3f5f"
                      }
                    },
                    "ternary": {
                      "aaxis": {
                        "gridcolor": "white",
                        "linecolor": "white",
                        "ticks": ""
                      },
                      "baxis": {
                        "gridcolor": "white",
                        "linecolor": "white",
                        "ticks": ""
                      },
                      "bgcolor": "#E5ECF6",
                      "caxis": {
                        "gridcolor": "white",
                        "linecolor": "white",
                        "ticks": ""
                      }
                    },
                    "title": {
                      "x": 0.05
                    },
                    "xaxis": {
                      "automargin": true,
                      "gridcolor": "white",
                      "linecolor": "white",
                      "ticks": "",
                      "title": {
                        "standoff": 15
                      },
                      "zerolinecolor": "white",
                      "zerolinewidth": 2
                    },
                    "yaxis": {
                      "automargin": true,
                      "gridcolor": "white",
                      "linecolor": "white",
                      "ticks": "",
                      "title": {
                        "standoff": 15
                      },
                      "zerolinecolor": "white",
                      "zerolinewidth": 2
                    }
                  }
                }
              }
            }
          },
          "metadata": {},
          "output_type": "display_data"
        }
      ],
      "source": [
        "#5\n",
        "\n",
        "\n",
        "periods=list(range(1,11))#periods\n",
        "rate=[0.02,0.025,0.03,0.035,0.04,0.0425,0.045,0.047,0.048,0.0485]# spot rates\n",
        "\n",
        "fr=[]#forward rates\n",
        "for i in range(1,len(periods)):\n",
        "    a=((rate[i]*periods[i])-(rate[i-1]*periods[i-1]))/(periods[i]-periods[i-1])\n",
        "    fr.append(a)\n",
        "\n",
        "#a\n",
        "\n",
        "print(fr)#forward rates\n",
        "\n",
        " #c   \n",
        "(((3/100)*3)-((2.25/100)*1.5))/1.5 #forward rate 1.5 3 under the asumption that interest rates increase linearly\n",
        "\n",
        "\n",
        "#b graphical display\n",
        "import plotly.graph_objects as go\n",
        "\n",
        "\n",
        "fig=go.Figure()\n",
        "\n",
        "fig.add_trace(go.Scatter(y=fr,name=\"Forward rates\"))\n",
        "\n",
        "fig.add_trace(go.Scatter(y=rate,name=\"Spot rates\"))\n",
        "\n",
        "\n",
        "#forward rates are above spot rates in every period\n",
        "\n",
        "\n",
        "\"When the spot rates are upward sloping the forward rates are above spot rates. This is anology with average and marginal values. In order for average to rise marginal rate must be above average\"\n",
        "\n",
        "fig=go.Figure()\n",
        "\n",
        "fig.add_trace(go.Scatter(y=fr,x=list(range(1,10)),name=\"Forward rates\"))\n",
        "\n",
        "fig.add_trace(go.Scatter(y=rate,name=\"Spot rates\"))\n"
      ]
    },
    {
      "cell_type": "code",
      "execution_count": 60,
      "id": "bdgefnd2qukU",
      "metadata": {
        "colab": {
          "base_uri": "https://localhost:8080/"
        },
        "id": "bdgefnd2qukU",
        "outputId": "9f9854a0-043d-45db-c6d7-f8b959931104"
      },
      "outputs": [
        {
          "data": {
            "text/plain": [
              "0.0485"
            ]
          },
          "execution_count": 60,
          "metadata": {},
          "output_type": "execute_result"
        }
      ],
      "source": [
        "rate[9]"
      ]
    }
  ],
  "metadata": {
    "colab": {
      "collapsed_sections": [],
      "name": "Copy of Domaci komplet.ipynb",
      "provenance": []
    },
    "kernelspec": {
      "display_name": "Python 3.9.7 ('base')",
      "language": "python",
      "name": "python3"
    },
    "language_info": {
      "codemirror_mode": {
        "name": "ipython",
        "version": 3
      },
      "file_extension": ".py",
      "mimetype": "text/x-python",
      "name": "python",
      "nbconvert_exporter": "python",
      "pygments_lexer": "ipython3",
      "version": "3.9.7"
    },
    "vscode": {
      "interpreter": {
        "hash": "f5116f0feaa1662dca1140e402fd5bd228252deca7abce491d11d7a4aafb2f2c"
      }
    }
  },
  "nbformat": 4,
  "nbformat_minor": 5
}
